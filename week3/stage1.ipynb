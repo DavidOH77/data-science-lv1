{
 "cells": [
  {
   "cell_type": "markdown",
   "metadata": {},
   "source": [
    "# Stage1\n",
    "\n",
    "## 함께실습$1"
   ]
  },
  {
   "cell_type": "code",
   "execution_count": 1,
   "metadata": {
    "ExecuteTime": {
     "end_time": "2019-05-09T08:14:04.969819Z",
     "start_time": "2019-05-09T08:14:04.948932Z"
    },
    "collapsed": true
   },
   "outputs": [],
   "source": [
    "# 순서대로 [고양이/펭귄/닭/타조/참새]의 데이터\n",
    "data = {\n",
    "    'name': ['고양이', '펭귄', '닭', '타조', '참새'],\n",
    "    'wing': [False, True, True, True, True],\n",
    "    'weight': ['light', 'heavy', 'light', 'heavy', 'light'],\n",
    "    'density': ['low', 'high', 'high', 'high', 'low'],\n",
    "    'fly': [False, False, False, False, True]\n",
    "}"
   ]
  },
  {
   "cell_type": "code",
   "execution_count": 2,
   "metadata": {
    "ExecuteTime": {
     "end_time": "2019-05-09T08:14:04.987433Z",
     "start_time": "2019-05-09T08:14:04.973929Z"
    },
    "collapsed": false
   },
   "outputs": [
    {
     "name": "stdout",
     "output_type": "stream",
     "text": [
      "고양이는 날개가 있을까? False\n",
      "닭은 날개가 있을까? True\n",
      "True heavy high False\n",
      "True light low True\n"
     ]
    }
   ],
   "source": [
    "# 코드작성이 끝나면 target_index를 0부터 4까지 변경하면서 실행해보세요.\n",
    "\n",
    "print('고양이는 날개가 있을까?', data['wing'][0] )\n",
    "print('닭은 날개가 있을까?', data['wing'][2] )\n",
    "\n",
    "# 펭귄의 날개,무게,골밀도,비행가능여부 정보를 모두 보여주기\n",
    "print(data['wing'][1],\n",
    "      data['weight'][1],\n",
    "      data['density'][1],\n",
    "      data['fly'][1])\n",
    "\n",
    "# 참새의 모든 정보 보여주기\n",
    "bird_no = 4 \n",
    "print(data['wing'][bird_no],\n",
    "      data['weight'][bird_no],\n",
    "      data['density'][bird_no],\n",
    "      data['fly'][bird_no])"
   ]
  },
  {
   "cell_type": "markdown",
   "metadata": {},
   "source": [
    "## 함께실습$2"
   ]
  },
  {
   "cell_type": "code",
   "execution_count": 3,
   "metadata": {
    "ExecuteTime": {
     "end_time": "2019-05-09T08:14:05.005837Z",
     "start_time": "2019-05-09T08:14:04.995503Z"
    },
    "collapsed": false
   },
   "outputs": [
    {
     "name": "stdout",
     "output_type": "stream",
     "text": [
      "고양이 : 날 수 있는지 확인합니다.\n",
      "날 수 없다\n"
     ]
    }
   ],
   "source": [
    "# 코드작성이 끝나면 target_index를 0부터 4까지 변경하면서 실행해보세요.\n",
    "target_index = 0 \n",
    "\n",
    "print(data['name'][target_index], ': 날 수 있는지 확인합니다.')\n",
    "\n",
    "# 날개 유무\n",
    "if data['wing'][target_index]: # 날개 있음\n",
    "    # 몸무게\n",
    "    if data['weight'][target_index] == 'heavy': # 몸무게 heavy\n",
    "        print('날 수 없다')\n",
    "    else: # 몸무게 light\n",
    "        # 골밀도\n",
    "        if data['density'][target_index] == 'high': # 골밀도 high\n",
    "            print('날 수 없다')\n",
    "        else: # 골밀도 low\n",
    "            print('날 수 있다!!!')\n",
    "else: # 날개 없음\n",
    "    print('날 수 없다')"
   ]
  },
  {
   "cell_type": "markdown",
   "metadata": {},
   "source": [
    "## 자율$1"
   ]
  },
  {
   "cell_type": "code",
   "execution_count": 4,
   "metadata": {
    "ExecuteTime": {
     "end_time": "2019-05-09T08:14:05.019008Z",
     "start_time": "2019-05-09T08:14:05.010694Z"
    },
    "collapsed": true
   },
   "outputs": [],
   "source": [
    "data = {\n",
    "    'name': ['1번 회원', '2번 회원', '3번 회원', '4번 회원'],\n",
    "    'age': [28, 22, 11, 10],\n",
    "    'fsize': [270, 235, 280, 220],\n",
    "    'gender': ['male', 'female', 'male', 'female']\n",
    "}"
   ]
  },
  {
   "cell_type": "code",
   "execution_count": 5,
   "metadata": {
    "ExecuteTime": {
     "end_time": "2019-05-09T08:14:05.039300Z",
     "start_time": "2019-05-09T08:14:05.022382Z"
    },
    "collapsed": false
   },
   "outputs": [
    {
     "name": "stdout",
     "output_type": "stream",
     "text": [
      "1번 회원 : 성별을 확인합니다.\n",
      "male\n"
     ]
    }
   ],
   "source": [
    "# 코드작성이 끝나면 target_index를 0부터 3까지 변경하면서 실행해보세요.\n",
    "target_index = 0\n",
    "\n",
    "print(data['name'][target_index], ': 성별을 확인합니다.')\n",
    "\n",
    "# 나이가 20살 이하인지 확인\n",
    "if data['age'][target_index] <= 20: # 20살 이하\n",
    "    # 발 사이즈가 250 이하인지 확인\n",
    "    if data['fsize'][target_index] <= 250: # 발사이즈 250 이하\n",
    "        print('female')\n",
    "    else: # 발사이즈 250 초과\n",
    "        print('male')\n",
    "else: # 20살 초과\n",
    "    # 발 사이즈가 260 이상인지 확인\n",
    "    if data['fsize'][target_index] >= 260: # 발사이즈 260 이상\n",
    "        print('male')\n",
    "    else: # 발사이즈 260 미만\u001e",
    "\n",
    "        print('female')"
   ]
  }
 ],
 "metadata": {
  "kernelspec": {
   "display_name": "Python 3",
   "language": "python",
   "name": "python3"
  },
  "language_info": {
   "codemirror_mode": {
    "name": "ipython",
    "version": 3
   },
   "file_extension": ".py",
   "mimetype": "text/x-python",
   "name": "python",
   "nbconvert_exporter": "python",
   "pygments_lexer": "ipython3",
   "version": "3.6.7"
  }
 },
 "nbformat": 4,
 "nbformat_minor": 2
}
