{
 "cells": [
  {
   "cell_type": "markdown",
   "metadata": {},
   "source": [
    "# Stage1\n",
    "---"
   ]
  },
  {
   "cell_type": "markdown",
   "metadata": {},
   "source": [
    "![stage1_1](img/stage1_1.png)\n",
    "\n",
    "데이터를 보고 적당한 선을 하나 그었습니다.\n",
    "이제 목표하는 주황색 선형회귀식을 찾아보겠습니다.\n",
    "\n",
    "`y = ax + b`\n",
    "\n",
    "(0, 1)을 지나고 (8,5)를 지납니다.\n",
    "\n",
    "`1 = a * 0 + b`  \n",
    "`5 = a * 8 + b`\n",
    "\n",
    "결국 **b = 1, a = 0.5** 를 얻을 수 있습니다.  \n",
    "`y = 0.5x + 1`\n",
    "\n",
    "만약 집 크기가 7이라면 `y = 0.5 * 7 + 1`, 즉 4.5으로 추정할 수 있습니다."
   ]
  },
  {
   "cell_type": "markdown",
   "metadata": {},
   "source": [
    "## 함께실습$1"
   ]
  },
  {
   "cell_type": "code",
   "execution_count": 1,
   "metadata": {
    "ExecuteTime": {
     "end_time": "2019-05-24T03:46:11.757292Z",
     "start_time": "2019-05-24T03:46:11.752284Z"
    },
    "collapsed": true
   },
   "outputs": [],
   "source": [
    "data = [(1,2), (2,2.5), (3,2),\n",
    "        (3,3), (4,3), (5,5),\n",
    "        (6,2), (7,4), (8,5)]\n",
    "\n",
    "# y = ax + b"
   ]
  },
  {
   "cell_type": "code",
   "execution_count": 2,
   "metadata": {
    "ExecuteTime": {
     "end_time": "2019-05-24T03:46:11.764401Z",
     "start_time": "2019-05-24T03:46:11.759977Z"
    },
    "collapsed": false
   },
   "outputs": [
    {
     "name": "stdout",
     "output_type": "stream",
     "text": [
      "9.75\n"
     ]
    }
   ],
   "source": [
    "a = 0.5\n",
    "b = 0.5\n",
    "\n",
    "sums = 0\n",
    "for (x, y) in data:\n",
    "    predict = a * x + b\n",
    "    sums += (y - predict) * (y - predict)\n",
    "    \n",
    "print(sums)"
   ]
  },
  {
   "cell_type": "markdown",
   "metadata": {},
   "source": [
    "## 미션$1"
   ]
  },
  {
   "cell_type": "code",
   "execution_count": 3,
   "metadata": {
    "ExecuteTime": {
     "end_time": "2019-05-24T03:46:11.790533Z",
     "start_time": "2019-05-24T03:46:11.767093Z"
    },
    "collapsed": false
   },
   "outputs": [
    {
     "name": "stdout",
     "output_type": "stream",
     "text": [
      "7.5\n"
     ]
    }
   ],
   "source": [
    "a = 0.5\n",
    "b = 1\n",
    "\n",
    "sums = 0\n",
    "for (x, y) in data:\n",
    "    predict = a * x + b\n",
    "    sums += (y - predict) * (y - predict)\n",
    "    \n",
    "print(sums)"
   ]
  },
  {
   "cell_type": "code",
   "execution_count": 4,
   "metadata": {
    "ExecuteTime": {
     "end_time": "2019-05-24T03:46:11.810009Z",
     "start_time": "2019-05-24T03:46:11.800047Z"
    },
    "collapsed": false
   },
   "outputs": [
    {
     "name": "stdout",
     "output_type": "stream",
     "text": [
      "8.33\n"
     ]
    }
   ],
   "source": [
    "a = 0.4\n",
    "b = 1\n",
    "\n",
    "sums = 0\n",
    "for (x, y) in data:\n",
    "    predict = a * x + b\n",
    "    sums += (y - predict) * (y - predict)\n",
    "    \n",
    "print(sums)"
   ]
  },
  {
   "cell_type": "code",
   "execution_count": 5,
   "metadata": {
    "ExecuteTime": {
     "end_time": "2019-05-24T03:46:11.819718Z",
     "start_time": "2019-05-24T03:46:11.814947Z"
    },
    "collapsed": false
   },
   "outputs": [
    {
     "name": "stdout",
     "output_type": "stream",
     "text": [
      "6.650000000000001\n"
     ]
    }
   ],
   "source": [
    "a, b = (0.4, 1.4) # 이런 모양도 가능합니다.\n",
    "\n",
    "sums = 0\n",
    "for (x, y) in data:\n",
    "    predict = a * x + b\n",
    "    sums += (y - predict) * (y - predict)\n",
    "    \n",
    "print(sums)"
   ]
  },
  {
   "cell_type": "markdown",
   "metadata": {},
   "source": [
    "## 자율$1\n",
    "### 반복문을 이용해 250,000가지 직선을 테스트하는 방법"
   ]
  },
  {
   "cell_type": "code",
   "execution_count": 6,
   "metadata": {
    "ExecuteTime": {
     "end_time": "2019-05-24T03:46:14.324252Z",
     "start_time": "2019-05-24T03:46:11.821537Z"
    },
    "collapsed": false,
    "scrolled": true
   },
   "outputs": [
    {
     "name": "stdout",
     "output_type": "stream",
     "text": [
      "0.35000000000000003 1.6500000000000001 6.539999999999999\n"
     ]
    }
   ],
   "source": [
    "import numpy as np\n",
    "\n",
    "# 수많은 경우 중 최소 값의 경우를 저장하기 위한 변수\n",
    "min_a = 0\n",
    "min_b = 0\n",
    "min_sums = 99999999\n",
    "\n",
    "for a in np.arange(0, 5, 0.01): # 0, 0.01, 0.02 ... 0.49까지의 500가지 경우\n",
    "    for b in np.arange(0, 5, 0.01): # 0, 0.01, 0.02 ... 0.49까지의 500가지 경우\n",
    "        \n",
    "        # 현재 a, b의 오차제곱의 합을 구합니다.\n",
    "        sums = 0\n",
    "        for (x, y) in data:\n",
    "            predict = a * x + b\n",
    "            sums += (y - predict) * (y - predict)\n",
    "        \n",
    "        # 지금 구한 오차제곱의 합이 최소값보다 작으면 저장해둡니다\n",
    "        if sums < min_sums:\n",
    "            min_a = a\n",
    "            min_b = b\n",
    "            min_sums = sums\n",
    "            \n",
    "# 앞서 저장해둔 최소값 상태를 표시합니다\n",
    "print(min_a,min_b, min_sums)"
   ]
  },
  {
   "cell_type": "markdown",
   "metadata": {},
   "source": [
    "앞서 구한 **(0.4, 1.4)** 경우 보다,\n",
    "**(0.35, 1.65)**가 더 작은 오차를 지녔군요!"
   ]
  }
 ],
 "metadata": {
  "kernelspec": {
   "display_name": "Python 3",
   "language": "python",
   "name": "python3"
  },
  "language_info": {
   "codemirror_mode": {
    "name": "ipython",
    "version": 3
   },
   "file_extension": ".py",
   "mimetype": "text/x-python",
   "name": "python",
   "nbconvert_exporter": "python",
   "pygments_lexer": "ipython3",
   "version": "3.6.7"
  }
 },
 "nbformat": 4,
 "nbformat_minor": 2
}
